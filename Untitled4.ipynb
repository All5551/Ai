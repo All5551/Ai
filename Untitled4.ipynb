{
  "nbformat": 4,
  "nbformat_minor": 0,
  "metadata": {
    "colab": {
      "name": "Untitled4.ipynb",
      "provenance": [],
      "authorship_tag": "ABX9TyPRv12Bi5GIBXp2I/5jUeZi",
      "include_colab_link": true
    },
    "kernelspec": {
      "name": "python3",
      "display_name": "Python 3"
    }
  },
  "cells": [
    {
      "cell_type": "markdown",
      "metadata": {
        "id": "view-in-github",
        "colab_type": "text"
      },
      "source": [
        "<a href=\"https://colab.research.google.com/github/All5551/Ai/blob/main/Untitled4.ipynb\" target=\"_parent\"><img src=\"https://colab.research.google.com/assets/colab-badge.svg\" alt=\"Open In Colab\"/></a>"
      ]
    },
    {
      "cell_type": "code",
      "metadata": {
        "colab": {
          "base_uri": "https://localhost:8080/"
        },
        "id": "7O1tNnfGULeb",
        "outputId": "f4200c41-c4ae-4fbe-84ed-27a63a2e8620"
      },
      "source": [
        "pip install poloniex.Poloniex"
      ],
      "execution_count": 5,
      "outputs": [
        {
          "output_type": "stream",
          "text": [
            "\u001b[31mERROR: Could not find a version that satisfies the requirement poloniex.Poloniex (from versions: none)\u001b[0m\n",
            "\u001b[31mERROR: No matching distribution found for poloniex.Poloniex\u001b[0m\n"
          ],
          "name": "stdout"
        }
      ]
    },
    {
      "cell_type": "code",
      "metadata": {
        "colab": {
          "base_uri": "https://localhost:8080/",
          "height": 351
        },
        "id": "t8VVIOqaUF-J",
        "outputId": "a3b0ddd2-b0ac-4514-c176-8e66cee649b3"
      },
      "source": [
        "import collections\n",
        "import json\n",
        "import time\n",
        "\n",
        "from poloniex import Poloniex\n",
        "\n",
        "COMMISSION = 0.0025\n",
        "\n",
        "CONFIG_FILE = 'resources/pairs.json'\n",
        "MAIN_ACTIVE = ['BTC', 'ETH']\n",
        "\n",
        "\n",
        "def split(str):\n",
        "    return str.split('_')\n",
        "\n",
        "\n",
        "def coin_pairs():\n",
        "    with open(CONFIG_FILE) as file_data:\n",
        "        data = json.load(file_data)\n",
        "\n",
        "    return data\n",
        "\n",
        "\n",
        "def create_dictionary(pairs):\n",
        "    order_book = polo.returnOrderBook(depth=1)\n",
        "    dictionary = collections.defaultdict(dict)\n",
        "\n",
        "    for pair in pairs:\n",
        "        p = pair.upper()\n",
        "        src, dst = split(p)\n",
        "\n",
        "        ask_order = order_book[p]['asks'][0]\n",
        "        src_ask = {\n",
        "            'pair': src + '_' + dst,\n",
        "            'price': float(ask_order[0]),\n",
        "            'amount': float(ask_order[1])\n",
        "        }\n",
        "\n",
        "        bid_order = order_book[p]['bids'][0]\n",
        "        src_bid = {\n",
        "            'pair': dst + '_' + src,\n",
        "            'price': 1 / float(bid_order[0]),\n",
        "            'amount': float(bid_order[1]) * float(bid_order[0])\n",
        "        }\n",
        "\n",
        "        dictionary[src][dst] = src_ask\n",
        "        dictionary[dst][src] = src_bid\n",
        "\n",
        "    return dictionary\n",
        "\n",
        "\n",
        "def get_amount():\n",
        "    amount_3 = order_3['amount'] * order_3['price']\n",
        "\n",
        "    amount_2 = order_2['amount'] if order_2['amount'] < amount_3 else amount_3\n",
        "    amount_2 = amount_2 * order_2['price']\n",
        "\n",
        "    return order_1['amount'] if order_1['amount'] < amount_2 else amount_2\n",
        "\n",
        "\n",
        "while True:\n",
        "    polo = Poloniex()\n",
        "    pairs = coin_pairs()\n",
        "    orders = create_dictionary(pairs)\n",
        "\n",
        "    print('Waiting...')\n",
        "\n",
        "    for active in MAIN_ACTIVE:\n",
        "        for (currency_1, currencies_1) in orders.items():\n",
        "            for (currency_2, order) in currencies_1.items():\n",
        "                if currency_2 == active or currency_1 == active:\n",
        "                    continue\n",
        "\n",
        "                order_1 = orders[active][currency_1]\n",
        "                order_2 = order\n",
        "                order_3 = orders[currency_2][active]\n",
        "\n",
        "                # Формируем объем\n",
        "                # TODO проверка баланса\n",
        "                amount = get_amount()\n",
        "                order_price = order_1['price'] * amount\n",
        "\n",
        "                transfer_1 = amount * (1 - COMMISSION)\n",
        "                transfer_2 = transfer_1 / order_2['price'] * (1 - COMMISSION)\n",
        "                transfer_3 = transfer_2 / order_3['price'] * (1 - COMMISSION)\n",
        "\n",
        "                if (transfer_3 / order_price) > 1:\n",
        "                    print('##############')\n",
        "                    print('Find percent:', transfer_3)\n",
        "                    print('Amount:', str(amount), currency_1)\n",
        "                    print('Order price:', str(order_price), active)\n",
        "                    print('Income:', str(transfer_3), active)\n",
        "                    print('Orders:')\n",
        "                    print(order_1, '=>')\n",
        "                    print(order_2, '=>')\n",
        "                    print(order_3)\n",
        "\n",
        "    time.sleep(1)"
      ],
      "execution_count": 7,
      "outputs": [
        {
          "output_type": "error",
          "ename": "FileNotFoundError",
          "evalue": "ignored",
          "traceback": [
            "\u001b[0;31m---------------------------------------------------------------------------\u001b[0m",
            "\u001b[0;31mFileNotFoundError\u001b[0m                         Traceback (most recent call last)",
            "\u001b[0;32m<ipython-input-7-785791251bdd>\u001b[0m in \u001b[0;36m<module>\u001b[0;34m()\u001b[0m\n\u001b[1;32m     61\u001b[0m \u001b[0;32mwhile\u001b[0m \u001b[0;32mTrue\u001b[0m\u001b[0;34m:\u001b[0m\u001b[0;34m\u001b[0m\u001b[0;34m\u001b[0m\u001b[0m\n\u001b[1;32m     62\u001b[0m     \u001b[0mpolo\u001b[0m \u001b[0;34m=\u001b[0m \u001b[0mPoloniex\u001b[0m\u001b[0;34m(\u001b[0m\u001b[0;34m)\u001b[0m\u001b[0;34m\u001b[0m\u001b[0;34m\u001b[0m\u001b[0m\n\u001b[0;32m---> 63\u001b[0;31m     \u001b[0mpairs\u001b[0m \u001b[0;34m=\u001b[0m \u001b[0mcoin_pairs\u001b[0m\u001b[0;34m(\u001b[0m\u001b[0;34m)\u001b[0m\u001b[0;34m\u001b[0m\u001b[0;34m\u001b[0m\u001b[0m\n\u001b[0m\u001b[1;32m     64\u001b[0m     \u001b[0morders\u001b[0m \u001b[0;34m=\u001b[0m \u001b[0mcreate_dictionary\u001b[0m\u001b[0;34m(\u001b[0m\u001b[0mpairs\u001b[0m\u001b[0;34m)\u001b[0m\u001b[0;34m\u001b[0m\u001b[0;34m\u001b[0m\u001b[0m\n\u001b[1;32m     65\u001b[0m \u001b[0;34m\u001b[0m\u001b[0m\n",
            "\u001b[0;32m<ipython-input-7-785791251bdd>\u001b[0m in \u001b[0;36mcoin_pairs\u001b[0;34m()\u001b[0m\n\u001b[1;32m     16\u001b[0m \u001b[0;34m\u001b[0m\u001b[0m\n\u001b[1;32m     17\u001b[0m \u001b[0;32mdef\u001b[0m \u001b[0mcoin_pairs\u001b[0m\u001b[0;34m(\u001b[0m\u001b[0;34m)\u001b[0m\u001b[0;34m:\u001b[0m\u001b[0;34m\u001b[0m\u001b[0;34m\u001b[0m\u001b[0m\n\u001b[0;32m---> 18\u001b[0;31m     \u001b[0;32mwith\u001b[0m \u001b[0mopen\u001b[0m\u001b[0;34m(\u001b[0m\u001b[0mCONFIG_FILE\u001b[0m\u001b[0;34m)\u001b[0m \u001b[0;32mas\u001b[0m \u001b[0mfile_data\u001b[0m\u001b[0;34m:\u001b[0m\u001b[0;34m\u001b[0m\u001b[0;34m\u001b[0m\u001b[0m\n\u001b[0m\u001b[1;32m     19\u001b[0m         \u001b[0mdata\u001b[0m \u001b[0;34m=\u001b[0m \u001b[0mjson\u001b[0m\u001b[0;34m.\u001b[0m\u001b[0mload\u001b[0m\u001b[0;34m(\u001b[0m\u001b[0mfile_data\u001b[0m\u001b[0;34m)\u001b[0m\u001b[0;34m\u001b[0m\u001b[0;34m\u001b[0m\u001b[0m\n\u001b[1;32m     20\u001b[0m \u001b[0;34m\u001b[0m\u001b[0m\n",
            "\u001b[0;31mFileNotFoundError\u001b[0m: [Errno 2] No such file or directory: 'resources/pairs.json'"
          ]
        }
      ]
    }
  ]
}